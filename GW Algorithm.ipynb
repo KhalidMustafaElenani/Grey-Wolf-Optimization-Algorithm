{
  "nbformat": 4,
  "nbformat_minor": 0,
  "metadata": {
    "colab": {
      "provenance": []
    },
    "kernelspec": {
      "name": "python3",
      "display_name": "Python 3"
    },
    "language_info": {
      "name": "python"
    }
  },
  "cells": [
    {
      "cell_type": "markdown",
      "source": [
        "## Introduction:\n"
      ],
      "metadata": {
        "id": "IeJmCZiYjruV"
      }
    },
    {
      "cell_type": "markdown",
      "source": [
        "Grey Wolf Optimization (GWO) is a population-based metaheuristic optimization algorithm inspired by the social hierarchy and hunting mechanisms of grey wolves. It mimics the leadership hierarchy of alpha, beta, and gamma wolves to iteratively search for the optimal solution to a given problem. In this implementation, we'll walk through the code that performs the GWO algorithm to optimize a given objective function.\n",
        "\n"
      ],
      "metadata": {
        "id": "Fyy52sA2jqXQ"
      }
    },
    {
      "cell_type": "markdown",
      "source": [
        "##1. Initialization:\n",
        "\n"
      ],
      "metadata": {
        "id": "pl8_cSIpjxOx"
      }
    },
    {
      "cell_type": "code",
      "source": [
        "import numpy as np"
      ],
      "metadata": {
        "id": "UM5ibDFWj1UA"
      },
      "execution_count": 1,
      "outputs": []
    },
    {
      "cell_type": "code",
      "source": [
        "lb = -10  # Lower bound\n",
        "ub = 10   # Upper bound\n",
        "Np = 5    # Population size\n",
        "max_iter = 5  # Maximum iterations"
      ],
      "metadata": {
        "id": "Y0BGfqgxj2o8"
      },
      "execution_count": 2,
      "outputs": []
    },
    {
      "cell_type": "markdown",
      "source": [
        "## 1.1 Objective function:\n"
      ],
      "metadata": {
        "id": "tVD05Ccaj8PK"
      }
    },
    {
      "cell_type": "code",
      "source": [
        "def objective_function(x1, x2, x3, x4):\n",
        "    return x1**2 + x2**2 + x3**2 + x4**2"
      ],
      "metadata": {
        "id": "n4bC2AdXkABm"
      },
      "execution_count": 3,
      "outputs": []
    },
    {
      "cell_type": "markdown",
      "source": [
        "\n",
        "Fitness function is the same as objective because we are going to minimize, If the plan is to maximize, we would use: Fitness(x)= 1/(1+x^2)\n"
      ],
      "metadata": {
        "id": "MvZHye6GlCh9"
      }
    },
    {
      "cell_type": "markdown",
      "source": [
        "## 1.2 Bound function:"
      ],
      "metadata": {
        "id": "obmkGVHXkBAO"
      }
    },
    {
      "cell_type": "code",
      "source": [
        "def bound(x_new, lb, ub):\n",
        "    return np.clip(x_new, lb, ub)"
      ],
      "metadata": {
        "id": "pDOEiE8vkHM1"
      },
      "execution_count": 4,
      "outputs": []
    },
    {
      "cell_type": "markdown",
      "source": [
        "## 1.3 Initialize the population:"
      ],
      "metadata": {
        "id": "qNBJy1nKkI1p"
      }
    },
    {
      "cell_type": "code",
      "source": [
        "def initialize_population(lb, ub, Np, D):\n",
        "    return np.random.uniform(low=lb, high=ub, size=(Np, D))"
      ],
      "metadata": {
        "id": "-hPhZB0zkNM5"
      },
      "execution_count": 5,
      "outputs": []
    },
    {
      "cell_type": "markdown",
      "source": [
        "## 1.4 fitness function evaluation:\n"
      ],
      "metadata": {
        "id": "ETGHysq-kOY3"
      }
    },
    {
      "cell_type": "code",
      "source": [
        "def evaluate_fitness(X, f):\n",
        "    return np.array([f(*x) for x in X])"
      ],
      "metadata": {
        "id": "I4vImUIpkT9h"
      },
      "execution_count": 6,
      "outputs": []
    },
    {
      "cell_type": "markdown",
      "source": [
        "## 2. Funciton Update:"
      ],
      "metadata": {
        "id": "BJA0awXPkWAu"
      }
    },
    {
      "cell_type": "code",
      "source": [
        "# Update the alpha, beta, and gamma wolves\n",
        "def update_wolves(X, fitness):\n",
        "    # Sort indices based on fitness values in ascending order\n",
        "    sorted_indices = np.argsort(fitness)\n",
        "    # Get indices for alpha, beta, and gamma wolves\n",
        "    alpha_idx, beta_idx, gamma_idx = sorted_indices[0], sorted_indices[1], sorted_indices[2]\n",
        "    # Get the corresponding wolves\n",
        "    alpha, beta, gamma = X[alpha_idx], X[beta_idx], X[gamma_idx]\n",
        "    # Get the corresponding fitness values\n",
        "    alpha_fit, beta_fit, gamma_fit = fitness[alpha_idx], fitness[beta_idx], fitness[gamma_idx]\n",
        "    return alpha, beta, gamma, alpha_fit, beta_fit, gamma_fit"
      ],
      "metadata": {
        "id": "WPwQ2NJnkWMl"
      },
      "execution_count": 7,
      "outputs": []
    },
    {
      "cell_type": "markdown",
      "source": [
        "##3. Calculate encircling behavior:\n"
      ],
      "metadata": {
        "id": "812OyIY7kgOK"
      }
    },
    {
      "cell_type": "code",
      "source": [
        "def calculate_encircling_behavior(a, X, alpha, beta, gamma, lb, ub):\n",
        "    new_X = np.zeros_like(X)\n",
        "    for i in range(len(X)):\n",
        "        # Calculate X1 using alpha\n",
        "        r1, r2 = np.random.rand(), np.random.rand()\n",
        "        Ak = 2 * a * r1 - a\n",
        "        Ck = 2 * r2\n",
        "        D_alpha = np.abs(Ck * alpha - X[i])\n",
        "        X1 = alpha - Ak * D_alpha\n",
        "\n",
        "        # Calculate X2 using beta\n",
        "        r1, r2 = np.random.rand(), np.random.rand()\n",
        "        Ak = 2 * a * r1 - a\n",
        "        Ck = 2 * r2\n",
        "        D_beta = np.abs(Ck * beta - X[i])\n",
        "        X2 = beta - Ak * D_beta\n",
        "\n",
        "        # Calculate X3 using gamma\n",
        "        r1, r2 = np.random.rand(), np.random.rand()\n",
        "        Ak = 2 * a * r1 - a\n",
        "        Ck = 2 * r2\n",
        "        D_gamma = np.abs(Ck * gamma - X[i])\n",
        "        X3 = gamma - Ak * D_gamma\n",
        "\n",
        "        # Calculate the new position\n",
        "        new_X[i] = (X1 + X2 + X3) / 3\n",
        "        # Bound the new position\n",
        "        new_X[i] = bound(new_X[i], lb, ub)\n",
        "\n",
        "    return new_X"
      ],
      "metadata": {
        "id": "ek3PrSAakgWH"
      },
      "execution_count": 8,
      "outputs": []
    },
    {
      "cell_type": "markdown",
      "source": [
        "## 3. GWO algorithm:\n"
      ],
      "metadata": {
        "id": "9ikFtmb-knw_"
      }
    },
    {
      "cell_type": "code",
      "source": [
        "def gwo_algorithm(f, lb, ub, Np, max_iter):\n",
        "    D = 4  # Dimension of the problem (x1, x2, x3, x4)\n",
        "\n",
        "    # Initialize the population randomly\n",
        "    X = initialize_population(lb, ub, Np, D)\n",
        "    fitness = evaluate_fitness(X, f)\n",
        "\n",
        "    for iteration in range(max_iter):\n",
        "        # Print iteration details\n",
        "        print(f\"[$]Iteration: {iteration+1}\")\n",
        "        print(\"=\"*55)\n",
        "        print(\"\\tPopulation\\t |\\t  Objective Values\\t\")\n",
        "        print(\"=\"*55)\n",
        "        for i in range(Np):\n",
        "            print(f\"{np.around(X[i], decimals=2)}| \\t\\t{round(f(*X[i]), 2)}\\t\")\n",
        "        print(\"=\"*55)\n",
        "\n",
        "        # Update alpha, beta, and gamma wolves\n",
        "        alpha, beta, gamma, alpha_fit, beta_fit, gamma_fit = update_wolves(X, fitness)\n",
        "\n",
        "        # Calculate encircling behavior\n",
        "        a = 1.0               # constant between 0 and 2\n",
        "        X = calculate_encircling_behavior(a, X, alpha, beta, gamma, lb, ub)\n",
        "\n",
        "        # Evaluate the new fitness\n",
        "        fitness = evaluate_fitness(X, f)\n",
        "\n",
        "        print(f\"\\nAlpha->\\t{np.around(alpha, decimals=2)},\\tFitness: {round(alpha_fit, 2)}\")\n",
        "        print(f\"Beta->\\t{np.around(beta, decimals=2)},\\tFitness: {round(beta_fit, 2)}\")\n",
        "        print(f\"Gamma->\\t{np.around(gamma, decimals=2)},\\tFitness: {round(gamma_fit, 2)}\\n\")\n",
        "        print(\"~\"*55)\n",
        "\n",
        "    return alpha, alpha_fit"
      ],
      "metadata": {
        "id": "TiOC2ExAkniJ"
      },
      "execution_count": 9,
      "outputs": []
    },
    {
      "cell_type": "markdown",
      "source": [
        "## 4. Main function:\n"
      ],
      "metadata": {
        "id": "wALaJFZ4kvR0"
      }
    },
    {
      "cell_type": "code",
      "source": [
        "def main():\n",
        "    # Run GWO algorithm\n",
        "    gwo_algorithm(objective_function, lb, ub, Np, max_iter)\n"
      ],
      "metadata": {
        "id": "lDkr2HZ6k5sc"
      },
      "execution_count": 10,
      "outputs": []
    },
    {
      "cell_type": "code",
      "execution_count": 11,
      "metadata": {
        "colab": {
          "base_uri": "https://localhost:8080/"
        },
        "id": "4_cCx9rmHCIW",
        "outputId": "f77b8b0a-261f-4f00-9e6b-626ab91174da"
      },
      "outputs": [
        {
          "output_type": "stream",
          "name": "stdout",
          "text": [
            "[$]Iteration: 1\n",
            "=======================================================\n",
            "\tPopulation\t |\t  Objective Values\t\n",
            "=======================================================\n",
            "[-5.91 -1.67  9.03  8.21]| \t\t186.81\t\n",
            "[-0.15  0.28 -9.52  8.94]| \t\t170.77\t\n",
            "[ 6.16 -4.99  8.07  9.06]| \t\t210.0\t\n",
            "[ 8.92 -5.24 -1.16 -2.14]| \t\t112.94\t\n",
            "[5.19 7.96 3.21 4.87]| \t\t124.36\t\n",
            "=======================================================\n",
            "\n",
            "Alpha->\t[ 8.92 -5.24 -1.16 -2.14],\tFitness: 112.94\n",
            "Beta->\t[5.19 7.96 3.21 4.87],\tFitness: 124.36\n",
            "Gamma->\t[-0.15  0.28 -9.52  8.94],\tFitness: 170.77\n",
            "\n",
            "~~~~~~~~~~~~~~~~~~~~~~~~~~~~~~~~~~~~~~~~~~~~~~~~~~~~~~~\n",
            "[$]Iteration: 2\n",
            "=======================================================\n",
            "\tPopulation\t |\t  Objective Values\t\n",
            "=======================================================\n",
            "[8.04 2.25 1.56 7.03]| \t\t121.5\t\n",
            "[ 5.45  0.82 -5.08  3.22]| \t\t66.58\t\n",
            "[ 4.48 -3.58 -3.03  1.18]| \t\t43.43\t\n",
            "[ 3.49 -0.95 -2.75  3.35]| \t\t31.88\t\n",
            "[ 3.21 -0.65 -8.98  0.55]| \t\t91.66\t\n",
            "=======================================================\n",
            "\n",
            "Alpha->\t[ 3.49 -0.95 -2.75  3.35],\tFitness: 31.88\n",
            "Beta->\t[ 4.48 -3.58 -3.03  1.18],\tFitness: 43.43\n",
            "Gamma->\t[ 5.45  0.82 -5.08  3.22],\tFitness: 66.58\n",
            "\n",
            "~~~~~~~~~~~~~~~~~~~~~~~~~~~~~~~~~~~~~~~~~~~~~~~~~~~~~~~\n",
            "[$]Iteration: 3\n",
            "=======================================================\n",
            "\tPopulation\t |\t  Objective Values\t\n",
            "=======================================================\n",
            "[ 5.29 -0.95 -2.24  3.37]| \t\t45.21\t\n",
            "[ 2.76 -2.36 -5.45  1.34]| \t\t44.74\t\n",
            "[ 5.25 -0.32 -3.15  2.95]| \t\t46.24\t\n",
            "[ 4.4  -1.19 -3.76  2.48]| \t\t41.09\t\n",
            "[ 4.78 -0.88 -4.09  2.1 ]| \t\t44.75\t\n",
            "=======================================================\n",
            "\n",
            "Alpha->\t[ 4.4  -1.19 -3.76  2.48],\tFitness: 41.09\n",
            "Beta->\t[ 2.76 -2.36 -5.45  1.34],\tFitness: 44.74\n",
            "Gamma->\t[ 4.78 -0.88 -4.09  2.1 ],\tFitness: 44.75\n",
            "\n",
            "~~~~~~~~~~~~~~~~~~~~~~~~~~~~~~~~~~~~~~~~~~~~~~~~~~~~~~~\n",
            "[$]Iteration: 4\n",
            "=======================================================\n",
            "\tPopulation\t |\t  Objective Values\t\n",
            "=======================================================\n",
            "[ 4.46 -1.41 -4.28  2.29]| \t\t45.44\t\n",
            "[ 2.67 -1.5  -4.58  1.47]| \t\t32.54\t\n",
            "[ 3.85 -1.26 -4.    1.85]| \t\t35.84\t\n",
            "[ 4.31 -1.61 -4.49  2.11]| \t\t45.81\t\n",
            "[ 3.38 -1.63 -4.55  1.74]| \t\t37.87\t\n",
            "=======================================================\n",
            "\n",
            "Alpha->\t[ 2.67 -1.5  -4.58  1.47],\tFitness: 32.54\n",
            "Beta->\t[ 3.85 -1.26 -4.    1.85],\tFitness: 35.84\n",
            "Gamma->\t[ 3.38 -1.63 -4.55  1.74],\tFitness: 37.87\n",
            "\n",
            "~~~~~~~~~~~~~~~~~~~~~~~~~~~~~~~~~~~~~~~~~~~~~~~~~~~~~~~\n",
            "[$]Iteration: 5\n",
            "=======================================================\n",
            "\tPopulation\t |\t  Objective Values\t\n",
            "=======================================================\n",
            "[ 4.54 -1.09 -3.19  2.27]| \t\t37.13\t\n",
            "[ 2.7  -1.83 -5.47  1.35]| \t\t42.38\t\n",
            "[ 4.68 -0.9  -2.76  2.37]| \t\t35.94\t\n",
            "[ 4.23 -1.26 -3.97  2.1 ]| \t\t39.66\t\n",
            "[ 2.91 -1.67 -4.87  1.49]| \t\t37.24\t\n",
            "=======================================================\n",
            "\n",
            "Alpha->\t[ 4.68 -0.9  -2.76  2.37],\tFitness: 35.94\n",
            "Beta->\t[ 4.54 -1.09 -3.19  2.27],\tFitness: 37.13\n",
            "Gamma->\t[ 2.91 -1.67 -4.87  1.49],\tFitness: 37.24\n",
            "\n",
            "~~~~~~~~~~~~~~~~~~~~~~~~~~~~~~~~~~~~~~~~~~~~~~~~~~~~~~~\n"
          ]
        }
      ],
      "source": [
        "if __name__ == \"__main__\":\n",
        "    main()"
      ]
    }
  ]
}